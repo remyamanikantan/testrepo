{
  "nbformat": 4,
  "nbformat_minor": 0,
  "metadata": {
    "colab": {
      "name": "Untitled0.ipynb",
      "provenance": []
    },
    "kernelspec": {
      "name": "python3",
      "display_name": "Python 3"
    },
    "language_info": {
      "name": "python"
    }
  },
  "cells": [
    {
      "cell_type": "code",
      "execution_count": null,
      "metadata": {
        "id": "dScikBoYxpMh"
      },
      "outputs": [],
      "source": [
        ""
      ]
    },
    {
      "cell_type": "markdown",
      "source": [
        " <h1>My Jupyter Notebook on Watson Studio</h1>\n",
        " "
      ],
      "metadata": {
        "id": "9-MNaTBvxzIY"
      }
    },
    {
      "cell_type": "markdown",
      "source": [
        "**REMYA MANIKANTAN**\n",
        "\n",
        "Machine Learning Engineer\n"
      ],
      "metadata": {
        "id": "JZ18Z7hdyphn"
      }
    },
    {
      "cell_type": "markdown",
      "source": [
        "*I'm enthusiastic about data science, especially considering how quickly technology is changing the profession. I enjoy being a part of new technologies and trying out innovative solutions*"
      ],
      "metadata": {
        "id": "6NGI3G9GzMH-"
      }
    },
    {
      "cell_type": "markdown",
      "source": [
        "<h3>The next line of code adds two numbers</h3>"
      ],
      "metadata": {
        "id": "YYTJl6x_z_O-"
      }
    },
    {
      "cell_type": "code",
      "source": [
        "3+2"
      ],
      "metadata": {
        "colab": {
          "base_uri": "https://localhost:8080/"
        },
        "id": "AHpRjnBm0MJE",
        "outputId": "04059079-f285-4f35-b1b7-0d47b7fb2d2e"
      },
      "execution_count": 1,
      "outputs": [
        {
          "output_type": "execute_result",
          "data": {
            "text/plain": [
              "5"
            ]
          },
          "metadata": {},
          "execution_count": 1
        }
      ]
    },
    {
      "cell_type": "markdown",
      "source": [
        "\n",
        "\n",
        "\n",
        "\n",
        "*   List item1\n",
        "*   List item2\n",
        "*   List item3\n",
        "*   List item4\n",
        "---\n",
        "\n",
        "1.   Numlist item1\n",
        "2.   Numlist item2\n",
        "3.   Numlist item3\n",
        "---"
      ],
      "metadata": {
        "id": "qGOB-AEk0VDs"
      }
    },
    {
      "cell_type": "markdown",
      "source": [
        "\n",
        "\n",
        "\n",
        "\n",
        "\n",
        "\n",
        "\n"
      ],
      "metadata": {
        "id": "kKOXaBuH0T1M"
      }
    }
  ]
}